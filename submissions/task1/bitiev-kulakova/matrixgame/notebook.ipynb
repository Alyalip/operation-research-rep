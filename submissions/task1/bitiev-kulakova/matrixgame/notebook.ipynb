{
 "cells": [
  {
   "cell_type": "code",
   "execution_count": 1,
   "metadata": {},
   "outputs": [],
   "source": [
    "import numpy as np\n",
    "import matplotlib.pyplot as plt\n",
    "\n",
    "def find_saddle_points(A):\n",
    "\tfor i in range(A.shape[0]):\n",
    "\t\tmin_r = np.min(A[i])\n",
    "\t\tind_r = 0\n",
    "\t\tmax_c = 0\n",
    "\t\tind_c = 0\n",
    "\t\tfor j in range(A.shape[1]):\n",
    "\t\t\tif (A[i][j] == min_r):\n",
    "\t\t\t\tmin_r = A[i][j]\n",
    "\t\t\t\tind_r = j\n",
    "\t\t\t\tfor k in range(A.shape[0]):\n",
    "\t\t\t\t\tif (A[k][ind_r] >= max_c):\n",
    "\t\t\t\t\t\tmax_c = A[k][ind_r]\n",
    "\t\t\t\t\t\tind_c = k\n",
    "\t\t\t\tif (min_r == max_c):\n",
    "\t\t\t\t\treturn ind_c, ind_r\n",
    "\treturn 0\n",
    "\n",
    "def canonical_form(A):\n",
    "\tI = np.eye(A.shape[0])\n",
    "\tZ = np.zeros(A.shape[0])\n",
    "\tI = np.vstack((I, Z))\n",
    "\tB = np.array([-1] * A.shape[1])\n",
    "\tA = np.vstack((A, B))\n",
    "\tA = np.hstack((A, I))\n",
    "\tO = np.ones((A.shape[0], 1))\n",
    "\tA = np.hstack((O, A))\n",
    "\tA[-1][0] = 0\n",
    "\treturn A\n",
    "\n",
    "def select_lead_column(A):\n",
    "\tmin_e = A[-1][1]\n",
    "\tindex = 1\n",
    "\tfor i in range(2, A.shape[1]):\n",
    "\t\tif ((min_e >= A[-1][i]) and (A[-1][i] < 0)):\n",
    "\t\t\tmin_e = A[-1][i]\n",
    "\t\t\tindex = i\n",
    "\treturn index\n",
    "\n",
    "def select_lead_row(A, col):\n",
    "\tfor i in range(A.shape[0]):\n",
    "\t\tif (A[i][col] > 0):\n",
    "\t\t\tmin_q = A[i][0] / A[i][col]\n",
    "\t\t\tindex = i\n",
    "\t\t\tbreak\n",
    "\tfor i in range(1, A.shape[0]-1):\n",
    "\t\tif (A[i][col] == 0): continue\n",
    "\t\tif ((min_q >= (A[i][0] / A[i][col])) and (A[i][col] > 0)):\n",
    "\t\t\tmin_q = A[i][0] / A[i][col]\n",
    "\t\t\tindex = i\n",
    "\treturn index\n",
    "\t\t\n",
    "def check_solved(A):\n",
    "\tsolved = True \n",
    "\tfor j in range(1, A.shape[1]):\n",
    "\t\tif (A[-1][j] < 0):\n",
    "\t\t\tsolved = False\n",
    "\treturn solved\n",
    "\n",
    "def conversion(A, c, r):\n",
    "\tmain_e = A[r][c]\n",
    "\tfor i in range(A.shape[1]):\n",
    "\t\tA[r][i] /= main_e\n",
    "\tfor i in range(A.shape[0]):\n",
    "\t\tif (i != r):\n",
    "\t\t\tA[i] += (A[r] * A[i][c] * (-1))\n",
    "\n",
    "def nash_equilibrium(A):\n",
    "\tP = []\n",
    "\tQ = [0] * A.shape[1]\n",
    "\tmin_e = A.min()\n",
    "\tflag = 0\n",
    "\tif (min_e < 0):\n",
    "\t\tA += abs(min_e) + 1\n",
    "\t\tflag = 1\n",
    "\tI = find_saddle_points(A)\n",
    "\tif (I):\n",
    "\t\tF = 1 / A[I[0]][I[1]]\n",
    "\t\tfor i in range(A.shape[0]):\n",
    "\t\t\tif i == I[0]:\n",
    "\t\t\t\tP.append(1)\n",
    "\t\t\telse:\n",
    "\t\t\t\tP.append(0)\n",
    "\t\tQ[I[1]] = 1\n",
    "\t\tprint('Цена игры равна = ', F)\n",
    "\t\tprint('Оптимальные стратегии первого игрока:', P)\n",
    "\t\tprint('Оптимальные стратегии второго игрока:', Q)\n",
    "\t\treturn F, P, Q\n",
    "\telse:\n",
    "\t\tf = A.shape[1]\n",
    "\t\tA = canonical_form(A)\n",
    "\t\twhile (check_solved(A) == False):\n",
    "\t\t\tcolumn = select_lead_column(A)\n",
    "\t\t\trow = select_lead_row(A, column)\n",
    "\t\t\tconversion(A, column, row)\n",
    "\t\t\n",
    "\t\tF = 1 / A[-1][0]\n",
    "\t\tfor i in range(f+1, A.shape[1]):\n",
    "\t\t\tP.append(F * A[-1][i])\n",
    "\t\tfor j in range(1, A.shape[1]-f):\n",
    "\t\t\tif (max(A[:,j]) == 1):\n",
    "\t\t\t\ti = np.where(A[:,j] == 1)\n",
    "\t\t\t\tQ.insert(j-1, F * A[int(i[0])][0])\n",
    "\t\t\t\tQ.pop(j)\n",
    "\t\tif (flag):\n",
    "\t\t\tF -= abs(min_e) + 1\n",
    "\t\tprint('Цена игры равна = ', F)\n",
    "\t\tprint('Оптимальные стратегии первого игрока:', P)\n",
    "\t\tprint('Оптимальные стратегии второго игрока:', Q)\n",
    "\treturn F, P, Q\n",
    "\n",
    "\n",
    "def print_(S):\n",
    "\tfig = plt.figure()\n",
    "\tplt.title('Визуализация спектров оптимальных стратегий')\n",
    "\tplt.grid(True)\n",
    "\tp = np.arange(1, len(S)+1, 1)\n",
    "\tplt.stem(p, S, linefmt = 'red', markerfmt = 'o', use_line_collection = True)\n",
    "\tplt.show()"
   ]
  },
  {
   "cell_type": "markdown",
   "metadata": {},
   "source": [
    "# Примеры"
   ]
  },
  {
   "cell_type": "markdown",
   "metadata": {},
   "source": [
    "# 1. Спектр оптимальной стратегии состоит из одной точки"
   ]
  },
  {
   "cell_type": "code",
   "execution_count": 2,
   "metadata": {},
   "outputs": [
    {
     "name": "stdout",
     "output_type": "stream",
     "text": [
      "Цена игры равна =  0.3333333333333333\n",
      "Оптимальные стратегии первого игрока: [0, 1]\n",
      "Оптимальные стратегии второго игрока: [1, 0]\n"
     ]
    },
    {
     "data": {
      "image/png": "[encoded data removed]",
      "text/plain": [
       "<Figure size 432x288 with 1 Axes>"
      ]
     },
     "metadata": {
      "needs_background": "light"
     },
     "output_type": "display_data"
    },
    {
     "data": {
      "image/png": "[encoded data removed]",
      "text/plain": [
       "<Figure size 432x288 with 1 Axes>"
      ]
     },
     "metadata": {
      "needs_background": "light"
     },
     "output_type": "display_data"
    }
   ],
   "source": [
    "A = np.array([[1, 2],\n",
    "             [3, 4]])\n",
    "F, P, Q = nash_equilibrium(A)\n",
    "print_(P)\n",
    "print_(Q)"
   ]
  },
  {
   "cell_type": "markdown",
   "metadata": {},
   "source": [
    "# 2. Спектр оптимальной стратегии неполон"
   ]
  },
  {
   "cell_type": "code",
   "execution_count": 3,
   "metadata": {},
   "outputs": [
    {
     "name": "stdout",
     "output_type": "stream",
     "text": [
      "Цена игры равна =  4.870967741935484\n",
      "Оптимальные стратегии первого игрока: [0.0, 0.129032258064516, 0.09677419354838726, 0.43548387096774194, 0.3387096774193548, 0.0]\n",
      "Оптимальные стратегии второго игрока: [0, 0, 0.6908602150537635, 0.14516129032258066, 0.1478494623655914, 0.01612903225806453]\n"
     ]
    },
    {
     "data": {
      "image/png": "[encoded data removed]",
      "text/plain": [
       "<Figure size 432x288 with 1 Axes>"
      ]
     },
     "metadata": {
      "needs_background": "light"
     },
     "output_type": "display_data"
    },
    {
     "data": {
      "image/png": "[encoded data removed]",
      "text/plain": [
       "<Figure size 432x288 with 1 Axes>"
      ]
     },
     "metadata": {
      "needs_background": "light"
     },
     "output_type": "display_data"
    }
   ],
   "source": [
    "A = np.array([[4, 0, 6, 2, 2, 1],\n",
    "\t[3, 8, 4, 10, 4, 4],\n",
    "\t[1, 2, 6, 5, 0, 0],\n",
    "\t[6, 6, 4, 4, 10, 3],\n",
    "\t[10, 4, 6, 4, 0, 9],\n",
    "\t[10, 7, 0, 7, 9, 8]])\n",
    "\n",
    "F, P, Q = nash_equilibrium(A)\n",
    "print_(P)\n",
    "print_(Q)"
   ]
  },
  {
   "cell_type": "markdown",
   "metadata": {},
   "source": [
    "# 3. Спектр оптимальной стратегии полон"
   ]
  },
  {
   "cell_type": "code",
   "execution_count": 4,
   "metadata": {},
   "outputs": [
    {
     "name": "stdout",
     "output_type": "stream",
     "text": [
      "Цена игры равна =  1.5\n",
      "Оптимальные стратегии первого игрока: [0.5, 0.5]\n",
      "Оптимальные стратегии второго игрока: [0.5, 0.5]\n"
     ]
    },
    {
     "data": {
      "image/png": "[encoded data removed]",
      "text/plain": [
       "<Figure size 432x288 with 1 Axes>"
      ]
     },
     "metadata": {
      "needs_background": "light"
     },
     "output_type": "display_data"
    },
    {
     "data": {
      "image/png": "[encoded data removed]",
      "text/plain": [
       "<Figure size 432x288 with 1 Axes>"
      ]
     },
     "metadata": {
      "needs_background": "light"
     },
     "output_type": "display_data"
    }
   ],
   "source": [
    "A = np.array([[1, 2],\n",
    "             [2, 1]])\n",
    "F, P, Q = nash_equilibrium(A)\n",
    "print_(P)\n",
    "print_(Q)"
   ]
  },
  {
   "cell_type": "code",
   "execution_count": null,
   "metadata": {},
   "outputs": [],
   "source": []
  }
 ],
 "metadata": {
  "kernelspec": {
   "display_name": "Python 3",
   "language": "python",
   "name": "python3"
  },
  "language_info": {
   "codemirror_mode": {
    "name": "ipython",
    "version": 3
   },
   "file_extension": ".py",
   "mimetype": "text/x-python",
   "name": "python",
   "nbconvert_exporter": "python",
   "pygments_lexer": "ipython3",
   "version": "3.7.3"
  }
 },
 "nbformat": 4,
 "nbformat_minor": 2
}
